{
 "cells": [
  {
   "cell_type": "markdown",
   "source": [
    "# Identify Digits_DSA"
   ],
   "metadata": {}
  },
  {
   "cell_type": "markdown",
   "source": [
    "Make predictions of handwritten digits in the mnist dataset."
   ],
   "metadata": {}
  },
  {
   "cell_type": "code",
   "execution_count": 1,
   "source": [
    "# Imports\r\n",
    "import numpy as np\r\n",
    "from sklearn import datasets\r\n",
    "from sklearn.metrics import confusion_matrix\r\n",
    "from sklearn.model_selection import train_test_split\r\n",
    "from sklearn.neighbors import KNeighborsClassifier\r\n",
    "from sklearn.metrics import classification_report\r\n",
    "import matplotlib.pyplot as plt\r\n",
    "import warnings\r\n",
    "warnings.filterwarnings('ignore')\r\n",
    "\r\n",
    "# import dataset\r\n",
    "digitos = datasets.load_digits()\r\n",
    "\r\n",
    "# Split X and Y\r\n",
    "X = digitos.data\r\n",
    "Y = digitos.target"
   ],
   "outputs": [],
   "metadata": {}
  },
  {
   "cell_type": "code",
   "execution_count": 2,
   "source": [
    "# Split Train and Test\r\n",
    "X_treino, testeData, Y_treino, testeLabels = train_test_split(X, Y, test_size = 0.30, random_state = 101)\r\n",
    "\r\n",
    "# Split Train and Validation\r\n",
    "treinoData, validData, treinoLabels, validLabels = train_test_split(X_treino, Y_treino, test_size = 0.1, random_state = 84)\r\n",
    "\r\n",
    "# Normalization with mean\r\n",
    "X_norm = np.mean(X, axis = 0)\r\n",
    "X_treino_norm = treinoData - X_norm\r\n",
    "X_valid_norm = validData - X_norm\r\n",
    "X_teste_norm = testeData - X_norm"
   ],
   "outputs": [],
   "metadata": {}
  },
  {
   "cell_type": "markdown",
   "source": [
    "#### Testing best value of k"
   ],
   "metadata": {}
  },
  {
   "cell_type": "code",
   "execution_count": 3,
   "source": [
    "kVals = range(1, 30, 2)\r\n",
    "acuracias = []\r\n",
    "\r\n",
    "for k in kVals:\r\n",
    "    \r\n",
    "    modeloKNN = KNeighborsClassifier(n_neighbors = k)\r\n",
    "    modeloKNN.fit(treinoData, treinoLabels)\r\n",
    "    score = modeloKNN.score(validData, validLabels)\r\n",
    "    print(\"For k = %d, the accuracy is = %.2f%%\" % (k, score * 100))\r\n",
    "    acuracias.append(score)"
   ],
   "outputs": [
    {
     "output_type": "stream",
     "name": "stdout",
     "text": [
      "For k = 1, the accuracy is = 99.21%\n",
      "For k = 3, the accuracy is = 100.00%\n",
      "For k = 5, the accuracy is = 100.00%\n",
      "For k = 7, the accuracy is = 99.21%\n",
      "For k = 9, the accuracy is = 98.41%\n",
      "For k = 11, the accuracy is = 98.41%\n",
      "For k = 13, the accuracy is = 97.62%\n",
      "For k = 15, the accuracy is = 97.62%\n",
      "For k = 17, the accuracy is = 97.62%\n",
      "For k = 19, the accuracy is = 97.62%\n",
      "For k = 21, the accuracy is = 97.62%\n",
      "For k = 23, the accuracy is = 97.62%\n",
      "For k = 25, the accuracy is = 96.83%\n",
      "For k = 27, the accuracy is = 96.83%\n",
      "For k = 29, the accuracy is = 96.83%\n"
     ]
    }
   ],
   "metadata": {}
  },
  {
   "cell_type": "code",
   "execution_count": 4,
   "source": [
    "# Best k value\r\n",
    "i = np.argmax(acuracias)\r\n",
    "print(\"The value of k = %d achieved the highest accuracy of %.2f%% in the validation data!\" % (kVals[i], acuracias[i] * 100))"
   ],
   "outputs": [
    {
     "output_type": "stream",
     "name": "stdout",
     "text": [
      "The value of k = 3 achieved the highest accuracy of 100.00% in the validation data!\n"
     ]
    }
   ],
   "metadata": {}
  },
  {
   "cell_type": "markdown",
   "source": [
    "#### Building and training model KNN"
   ],
   "metadata": {}
  },
  {
   "cell_type": "code",
   "execution_count": 5,
   "source": [
    "modeloFinal = KNeighborsClassifier(n_neighbors = kVals[i])\r\n",
    "modeloFinal.fit(treinoData, treinoLabels)"
   ],
   "outputs": [
    {
     "output_type": "execute_result",
     "data": {
      "text/plain": [
       "KNeighborsClassifier(n_neighbors=3)"
      ]
     },
     "metadata": {},
     "execution_count": 5
    }
   ],
   "metadata": {}
  },
  {
   "cell_type": "markdown",
   "source": [
    "#### Prevision with test and vaditaion model"
   ],
   "metadata": {}
  },
  {
   "cell_type": "code",
   "execution_count": 6,
   "source": [
    "predictions = modeloFinal.predict(testeData)\r\n",
    "print(\"Model evaluation\")\r\n",
    "print(classification_report(testeLabels, predictions))"
   ],
   "outputs": [
    {
     "output_type": "stream",
     "name": "stdout",
     "text": [
      "Model evaluation\n",
      "              precision    recall  f1-score   support\n",
      "\n",
      "           0       1.00      1.00      1.00        53\n",
      "           1       0.95      0.98      0.96        55\n",
      "           2       1.00      1.00      1.00        49\n",
      "           3       0.98      0.98      0.98        54\n",
      "           4       1.00      0.98      0.99        61\n",
      "           5       0.98      1.00      0.99        59\n",
      "           6       1.00      0.98      0.99        46\n",
      "           7       1.00      1.00      1.00        56\n",
      "           8       1.00      0.95      0.97        59\n",
      "           9       0.96      1.00      0.98        48\n",
      "\n",
      "    accuracy                           0.99       540\n",
      "   macro avg       0.99      0.99      0.99       540\n",
      "weighted avg       0.99      0.99      0.99       540\n",
      "\n"
     ]
    }
   ],
   "metadata": {}
  },
  {
   "cell_type": "code",
   "execution_count": 7,
   "source": [
    "print (\"Confusion matrix\")\r\n",
    "print(confusion_matrix(testeLabels, predictions))"
   ],
   "outputs": [
    {
     "output_type": "stream",
     "name": "stdout",
     "text": [
      "Confusion matrix\n",
      "[[53  0  0  0  0  0  0  0  0  0]\n",
      " [ 0 54  0  0  0  1  0  0  0  0]\n",
      " [ 0  0 49  0  0  0  0  0  0  0]\n",
      " [ 0  0  0 53  0  0  0  0  0  1]\n",
      " [ 0  0  0  0 60  0  0  0  0  1]\n",
      " [ 0  0  0  0  0 59  0  0  0  0]\n",
      " [ 0  1  0  0  0  0 45  0  0  0]\n",
      " [ 0  0  0  0  0  0  0 56  0  0]\n",
      " [ 0  2  0  1  0  0  0  0 56  0]\n",
      " [ 0  0  0  0  0  0  0  0  0 48]]\n"
     ]
    }
   ],
   "metadata": {}
  },
  {
   "cell_type": "code",
   "execution_count": 8,
   "source": [
    "# previsions\r\n",
    "for i in np.random.randint(0, high=len(testeLabels), size=(5,)):\r\n",
    "         \r\n",
    "    image = testeData[i]\r\n",
    "    prediction = modeloFinal.predict([image])[0]\r\n",
    "         \r\n",
    "    imgdata = np.array(image, dtype='float')\r\n",
    "    pixels = imgdata.reshape((8,8))\r\n",
    "    plt.imshow(pixels,cmap='gray')\r\n",
    "    plt.annotate(prediction,(3,3),bbox={'facecolor':'white'},fontsize=16)\r\n",
    "    print(\"I believe this digit is: {}\".format(prediction))\r\n",
    "    plt.show()"
   ],
   "outputs": [
    {
     "output_type": "stream",
     "name": "stdout",
     "text": [
      "I believe this digit is: 7\n"
     ]
    },
    {
     "output_type": "display_data",
     "data": {
      "image/png": "[encoded data removed]",
      "text/plain": [
       "<Figure size 432x288 with 1 Axes>"
      ]
     },
     "metadata": {
      "needs_background": "light"
     }
    },
    {
     "output_type": "stream",
     "name": "stdout",
     "text": [
      "I believe this digit is: 2\n"
     ]
    },
    {
     "output_type": "display_data",
     "data": {
      "image/png": "[encoded data removed]",
      "text/plain": [
       "<Figure size 432x288 with 1 Axes>"
      ]
     },
     "metadata": {
      "needs_background": "light"
     }
    },
    {
     "output_type": "stream",
     "name": "stdout",
     "text": [
      "I believe this digit is: 8\n"
     ]
    },
    {
     "output_type": "display_data",
     "data": {
      "image/png": "[encoded data removed]",
      "text/plain": [
       "<Figure size 432x288 with 1 Axes>"
      ]
     },
     "metadata": {
      "needs_background": "light"
     }
    },
    {
     "output_type": "stream",
     "name": "stdout",
     "text": [
      "I believe this digit is: 1\n"
     ]
    },
    {
     "output_type": "display_data",
     "data": {
      "image/png": "[encoded data removed]",
      "text/plain": [
       "<Figure size 432x288 with 1 Axes>"
      ]
     },
     "metadata": {
      "needs_background": "light"
     }
    },
    {
     "output_type": "stream",
     "name": "stdout",
     "text": [
      "I believe this digit is: 9\n"
     ]
    },
    {
     "output_type": "display_data",
     "data": {
      "image/png": "[encoded data removed]",
      "text/plain": [
       "<Figure size 432x288 with 1 Axes>"
      ]
     },
     "metadata": {
      "needs_background": "light"
     }
    }
   ],
   "metadata": {}
  }
 ],
 "metadata": {
  "anaconda-cloud": {},
  "kernelspec": {
   "name": "python3",
   "display_name": "Python 3.8.5 64-bit ('base': conda)"
  },
  "language_info": {
   "codemirror_mode": {
    "name": "ipython",
    "version": 3
   },
   "file_extension": ".py",
   "mimetype": "text/x-python",
   "name": "python",
   "nbconvert_exporter": "python",
   "pygments_lexer": "ipython3",
   "version": "3.8.5"
  },
  "interpreter": {
   "hash": "fbdb791eff7b06cb9799a08a00b18e75aea504e625bd259c9110c1a52aa0a0fd"
  }
 },
 "nbformat": 4,
 "nbformat_minor": 1
}